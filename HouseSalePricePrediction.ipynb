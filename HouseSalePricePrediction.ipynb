{
 "cells": [
  {
   "cell_type": "code",
   "execution_count": 1,
   "id": "38db2f83",
   "metadata": {},
   "outputs": [],
   "source": [
    "from sklearn.feature_selection import SelectFromModel\n",
    "from sklearn.preprocessing import StandardScaler\n",
    "from sklearn.linear_model import LinearRegression\n",
    "from sklearn.preprocessing import LabelEncoder\n",
    "from sklearn.model_selection import train_test_split\n",
    "from sklearn.impute import SimpleImputer\n",
    "import pandas as pd\n",
    "import numpy as np"
   ]
  },
  {
   "cell_type": "code",
   "execution_count": 2,
   "id": "439e1af8",
   "metadata": {},
   "outputs": [],
   "source": [
    "# Apply the LR model\n",
    "LR_model = LinearRegression(fit_intercept=True, normalize=True,copy_X=True,n_jobs=-1)"
   ]
  },
  {
   "cell_type": "code",
   "execution_count": 3,
   "id": "66ccfef6",
   "metadata": {},
   "outputs": [],
   "source": [
    "dataset = pd.read_csv('data.csv')"
   ]
  },
  {
   "cell_type": "code",
   "execution_count": 4,
   "id": "4587dc28",
   "metadata": {},
   "outputs": [
    {
     "data": {
      "text/plain": [
       "Id                 int64\n",
       "MSSubClass         int64\n",
       "MSZoning          object\n",
       "LotFrontage      float64\n",
       "LotArea            int64\n",
       "                  ...   \n",
       "MoSold             int64\n",
       "YrSold             int64\n",
       "SaleType          object\n",
       "SaleCondition     object\n",
       "SalePrice          int64\n",
       "Length: 81, dtype: object"
      ]
     },
     "execution_count": 4,
     "metadata": {},
     "output_type": "execute_result"
    }
   ],
   "source": [
    "dataset.dtypes"
   ]
  },
  {
   "cell_type": "code",
   "execution_count": 5,
   "id": "d9bce78e",
   "metadata": {
    "scrolled": false
   },
   "outputs": [
    {
     "data": {
      "text/plain": [
       "Id                 0\n",
       "MSSubClass         0\n",
       "MSZoning           0\n",
       "LotFrontage      259\n",
       "LotArea            0\n",
       "                ... \n",
       "MoSold             0\n",
       "YrSold             0\n",
       "SaleType           0\n",
       "SaleCondition      0\n",
       "SalePrice          0\n",
       "Length: 81, dtype: int64"
      ]
     },
     "execution_count": 5,
     "metadata": {},
     "output_type": "execute_result"
    }
   ],
   "source": [
    "dataset.isnull().sum()"
   ]
  },
  {
   "cell_type": "markdown",
   "id": "c505ca5e",
   "metadata": {},
   "source": [
    "Data preprocessing (Labeling)"
   ]
  },
  {
   "cell_type": "code",
   "execution_count": 6,
   "id": "33ea1f08",
   "metadata": {},
   "outputs": [],
   "source": [
    "BsmtFinType1 = LabelEncoder()\n",
    "dataset[\"BsmtFinType1\"]= BsmtFinType1.fit_transform(dataset[\"BsmtFinType1\"])"
   ]
  },
  {
   "cell_type": "code",
   "execution_count": 7,
   "id": "76662f9f",
   "metadata": {},
   "outputs": [],
   "source": [
    "MSZoning = LabelEncoder()\n",
    "dataset[\"MSZoning\"]= MSZoning.fit_transform(dataset[\"MSZoning\"])"
   ]
  },
  {
   "cell_type": "code",
   "execution_count": 8,
   "id": "909ca13f",
   "metadata": {},
   "outputs": [],
   "source": [
    "LotFrontage = LabelEncoder()\n",
    "dataset[\"LotFrontage\"]= LotFrontage.fit_transform(dataset[\"LotFrontage\"])"
   ]
  },
  {
   "cell_type": "code",
   "execution_count": 9,
   "id": "040b4149",
   "metadata": {},
   "outputs": [],
   "source": [
    "Street = LabelEncoder()\n",
    "dataset[\"Street\"]= Street.fit_transform(dataset[\"Street\"])"
   ]
  },
  {
   "cell_type": "code",
   "execution_count": 10,
   "id": "e0ad876b",
   "metadata": {},
   "outputs": [],
   "source": [
    "Alley = LabelEncoder()\n",
    "dataset[\"Alley\"]= Alley.fit_transform(dataset[\"Alley\"])"
   ]
  },
  {
   "cell_type": "code",
   "execution_count": 11,
   "id": "50afe586",
   "metadata": {},
   "outputs": [],
   "source": [
    "LotShape = LabelEncoder()\n",
    "dataset[\"LotShape\"]= LotShape.fit_transform(dataset[\"LotShape\"])"
   ]
  },
  {
   "cell_type": "code",
   "execution_count": 12,
   "id": "6ed960ad",
   "metadata": {},
   "outputs": [],
   "source": [
    "LandContour = LabelEncoder()\n",
    "dataset[\"LandContour\"]= LandContour.fit_transform(dataset[\"LandContour\"])"
   ]
  },
  {
   "cell_type": "code",
   "execution_count": 13,
   "id": "e586d3dd",
   "metadata": {},
   "outputs": [],
   "source": [
    "Utilities = LabelEncoder()\n",
    "dataset[\"Utilities\"]= Utilities.fit_transform(dataset[\"Utilities\"])"
   ]
  },
  {
   "cell_type": "code",
   "execution_count": 14,
   "id": "89e0c4ff",
   "metadata": {},
   "outputs": [],
   "source": [
    "LotConfig = LabelEncoder()\n",
    "dataset[\"LotConfig\"]= LotConfig.fit_transform(dataset[\"LotConfig\"])"
   ]
  },
  {
   "cell_type": "code",
   "execution_count": 15,
   "id": "0afb8314",
   "metadata": {},
   "outputs": [],
   "source": [
    "LandSlope = LabelEncoder()\n",
    "dataset[\"LandSlope\"]= LandSlope.fit_transform(dataset[\"LandSlope\"])"
   ]
  },
  {
   "cell_type": "code",
   "execution_count": 16,
   "id": "9a7aa091",
   "metadata": {},
   "outputs": [],
   "source": [
    "Neighborhood = LabelEncoder()\n",
    "dataset[\"Neighborhood\"]= Neighborhood.fit_transform(dataset[\"Neighborhood\"])"
   ]
  },
  {
   "cell_type": "code",
   "execution_count": 17,
   "id": "6e28419c",
   "metadata": {},
   "outputs": [],
   "source": [
    "Condition1 = LabelEncoder()\n",
    "dataset[\"Condition1\"]= Condition1.fit_transform(dataset[\"Condition1\"])"
   ]
  },
  {
   "cell_type": "code",
   "execution_count": 18,
   "id": "2107e766",
   "metadata": {},
   "outputs": [],
   "source": [
    "Condition2 = LabelEncoder()\n",
    "dataset[\"Condition2\"]= Condition2.fit_transform(dataset[\"Condition2\"])"
   ]
  },
  {
   "cell_type": "code",
   "execution_count": 19,
   "id": "045b2795",
   "metadata": {},
   "outputs": [],
   "source": [
    "BldgType = LabelEncoder()\n",
    "dataset[\"BldgType\"]= BldgType.fit_transform(dataset[\"BldgType\"])"
   ]
  },
  {
   "cell_type": "code",
   "execution_count": 20,
   "id": "e27d358d",
   "metadata": {},
   "outputs": [],
   "source": [
    "HouseStyle = LabelEncoder()\n",
    "dataset[\"HouseStyle\"]= HouseStyle.fit_transform(dataset[\"HouseStyle\"])"
   ]
  },
  {
   "cell_type": "code",
   "execution_count": 21,
   "id": "52d582a3",
   "metadata": {},
   "outputs": [],
   "source": [
    "RoofStyle = LabelEncoder()\n",
    "dataset[\"RoofStyle\"]= RoofStyle.fit_transform(dataset[\"RoofStyle\"])"
   ]
  },
  {
   "cell_type": "code",
   "execution_count": 22,
   "id": "4478da35",
   "metadata": {},
   "outputs": [],
   "source": [
    "RoofMatl = LabelEncoder()\n",
    "dataset[\"RoofMatl\"]= RoofMatl.fit_transform(dataset[\"RoofMatl\"])"
   ]
  },
  {
   "cell_type": "code",
   "execution_count": 23,
   "id": "46f6a306",
   "metadata": {},
   "outputs": [],
   "source": [
    "Exterior1st = LabelEncoder()\n",
    "dataset[\"Exterior1st\"]= Exterior1st.fit_transform(dataset[\"Exterior1st\"])"
   ]
  },
  {
   "cell_type": "code",
   "execution_count": 24,
   "id": "5a6303c6",
   "metadata": {},
   "outputs": [],
   "source": [
    "Exterior2nd = LabelEncoder()\n",
    "dataset[\"Exterior2nd\"]= Exterior2nd.fit_transform(dataset[\"Exterior2nd\"])"
   ]
  },
  {
   "cell_type": "code",
   "execution_count": 25,
   "id": "7004656c",
   "metadata": {},
   "outputs": [],
   "source": [
    "MasVnrType = LabelEncoder()\n",
    "dataset[\"MasVnrType\"]= MasVnrType.fit_transform(dataset[\"MasVnrType\"])"
   ]
  },
  {
   "cell_type": "code",
   "execution_count": 26,
   "id": "7a2433b1",
   "metadata": {},
   "outputs": [],
   "source": [
    "ExterQual = LabelEncoder()\n",
    "dataset[\"ExterQual\"]= ExterQual.fit_transform(dataset[\"ExterQual\"])"
   ]
  },
  {
   "cell_type": "code",
   "execution_count": 27,
   "id": "a90c45a2",
   "metadata": {},
   "outputs": [],
   "source": [
    "ExterCond = LabelEncoder()\n",
    "dataset[\"ExterCond\"]= ExterCond.fit_transform(dataset[\"ExterCond\"])"
   ]
  },
  {
   "cell_type": "code",
   "execution_count": 28,
   "id": "25d136e8",
   "metadata": {},
   "outputs": [],
   "source": [
    "Foundation = LabelEncoder()\n",
    "dataset[\"Foundation\"]= Foundation.fit_transform(dataset[\"Foundation\"])"
   ]
  },
  {
   "cell_type": "code",
   "execution_count": 29,
   "id": "255e3e70",
   "metadata": {},
   "outputs": [],
   "source": [
    "BsmtQual = LabelEncoder()\n",
    "dataset[\"BsmtQual\"]= BsmtQual.fit_transform(dataset[\"BsmtQual\"])"
   ]
  },
  {
   "cell_type": "code",
   "execution_count": 30,
   "id": "9bbdf438",
   "metadata": {},
   "outputs": [],
   "source": [
    "BsmtCond = LabelEncoder()\n",
    "dataset[\"BsmtCond\"]= BsmtCond.fit_transform(dataset[\"BsmtCond\"])"
   ]
  },
  {
   "cell_type": "code",
   "execution_count": 31,
   "id": "e99e4f3b",
   "metadata": {},
   "outputs": [],
   "source": [
    "BsmtExposure = LabelEncoder()\n",
    "dataset[\"BsmtExposure\"]= BsmtExposure.fit_transform(dataset[\"BsmtExposure\"])"
   ]
  },
  {
   "cell_type": "code",
   "execution_count": 32,
   "id": "e785bb0a",
   "metadata": {},
   "outputs": [],
   "source": [
    "BsmtFinType2 = LabelEncoder()\n",
    "dataset[\"BsmtFinType2\"]= BsmtFinType2.fit_transform(dataset[\"BsmtFinType2\"])"
   ]
  },
  {
   "cell_type": "code",
   "execution_count": 33,
   "id": "a7ea8a91",
   "metadata": {},
   "outputs": [],
   "source": [
    "Heating = LabelEncoder()\n",
    "dataset[\"Heating\"]= Heating.fit_transform(dataset[\"Heating\"])"
   ]
  },
  {
   "cell_type": "code",
   "execution_count": 34,
   "id": "e11e5557",
   "metadata": {},
   "outputs": [],
   "source": [
    "HeatingQC = LabelEncoder()\n",
    "dataset[\"HeatingQC\"]= HeatingQC.fit_transform(dataset[\"HeatingQC\"])"
   ]
  },
  {
   "cell_type": "code",
   "execution_count": 35,
   "id": "b47bd8fa",
   "metadata": {},
   "outputs": [],
   "source": [
    "CentralAir = LabelEncoder()\n",
    "dataset[\"CentralAir\"]= CentralAir.fit_transform(dataset[\"CentralAir\"])"
   ]
  },
  {
   "cell_type": "code",
   "execution_count": 36,
   "id": "a1161633",
   "metadata": {},
   "outputs": [],
   "source": [
    "Electrical = LabelEncoder()\n",
    "dataset[\"Electrical\"]= Electrical.fit_transform(dataset[\"Electrical\"])"
   ]
  },
  {
   "cell_type": "code",
   "execution_count": 37,
   "id": "0cbc1176",
   "metadata": {},
   "outputs": [],
   "source": [
    "KitchenQual = LabelEncoder()\n",
    "dataset[\"KitchenQual\"]= KitchenQual.fit_transform(dataset[\"KitchenQual\"])"
   ]
  },
  {
   "cell_type": "code",
   "execution_count": 38,
   "id": "d26fae89",
   "metadata": {},
   "outputs": [],
   "source": [
    "Functional = LabelEncoder()\n",
    "dataset[\"Functional\"]= Functional.fit_transform(dataset[\"Functional\"])"
   ]
  },
  {
   "cell_type": "code",
   "execution_count": 39,
   "id": "f33d7534",
   "metadata": {},
   "outputs": [],
   "source": [
    "FireplaceQu = LabelEncoder()\n",
    "dataset[\"FireplaceQu\"]= FireplaceQu.fit_transform(dataset[\"FireplaceQu\"])"
   ]
  },
  {
   "cell_type": "code",
   "execution_count": 40,
   "id": "b6567fdd",
   "metadata": {},
   "outputs": [],
   "source": [
    "GarageType = LabelEncoder()\n",
    "dataset[\"GarageType\"]= GarageType.fit_transform(dataset[\"GarageType\"])"
   ]
  },
  {
   "cell_type": "code",
   "execution_count": 41,
   "id": "dac765de",
   "metadata": {},
   "outputs": [],
   "source": [
    "GarageCond = LabelEncoder()\n",
    "dataset[\"GarageCond\"]= GarageCond.fit_transform(dataset[\"GarageCond\"])"
   ]
  },
  {
   "cell_type": "code",
   "execution_count": 42,
   "id": "0444dc57",
   "metadata": {},
   "outputs": [],
   "source": [
    "GarageFinish = LabelEncoder()\n",
    "dataset[\"GarageFinish\"]= GarageFinish.fit_transform(dataset[\"GarageFinish\"])"
   ]
  },
  {
   "cell_type": "code",
   "execution_count": 43,
   "id": "ff1f6cd6",
   "metadata": {},
   "outputs": [],
   "source": [
    "GarageQual = LabelEncoder()\n",
    "dataset[\"GarageQual\"]= GarageQual.fit_transform(dataset[\"GarageQual\"])"
   ]
  },
  {
   "cell_type": "code",
   "execution_count": 44,
   "id": "630a5f81",
   "metadata": {},
   "outputs": [],
   "source": [
    "PavedDrive = LabelEncoder()\n",
    "dataset[\"PavedDrive\"]= PavedDrive.fit_transform(dataset[\"PavedDrive\"])"
   ]
  },
  {
   "cell_type": "code",
   "execution_count": 45,
   "id": "f930378d",
   "metadata": {},
   "outputs": [],
   "source": [
    "PoolQC = LabelEncoder()\n",
    "dataset[\"PoolQC\"]= PoolQC.fit_transform(dataset[\"PoolQC\"])"
   ]
  },
  {
   "cell_type": "code",
   "execution_count": 46,
   "id": "d025584c",
   "metadata": {},
   "outputs": [],
   "source": [
    "Fence = LabelEncoder()\n",
    "dataset[\"Fence\"]= Fence.fit_transform(dataset[\"Fence\"])"
   ]
  },
  {
   "cell_type": "code",
   "execution_count": 47,
   "id": "776782ac",
   "metadata": {},
   "outputs": [],
   "source": [
    "MiscFeature = LabelEncoder()\n",
    "dataset[\"MiscFeature\"]= MiscFeature.fit_transform(dataset[\"MiscFeature\"])"
   ]
  },
  {
   "cell_type": "code",
   "execution_count": 48,
   "id": "c9763bb7",
   "metadata": {},
   "outputs": [],
   "source": [
    "SaleType = LabelEncoder()\n",
    "dataset[\"SaleType\"]= SaleType.fit_transform(dataset[\"SaleType\"])"
   ]
  },
  {
   "cell_type": "code",
   "execution_count": 49,
   "id": "193d0f19",
   "metadata": {},
   "outputs": [],
   "source": [
    "SaleCondition = LabelEncoder()\n",
    "dataset[\"SaleCondition\"]= SaleCondition.fit_transform(dataset[\"SaleCondition\"])"
   ]
  },
  {
   "cell_type": "code",
   "execution_count": 50,
   "id": "1c0ee285",
   "metadata": {},
   "outputs": [
    {
     "data": {
      "text/plain": [
       "Id               int64\n",
       "MSSubClass       int64\n",
       "MSZoning         int32\n",
       "LotFrontage      int64\n",
       "LotArea          int64\n",
       "                 ...  \n",
       "MoSold           int64\n",
       "YrSold           int64\n",
       "SaleType         int32\n",
       "SaleCondition    int32\n",
       "SalePrice        int64\n",
       "Length: 81, dtype: object"
      ]
     },
     "execution_count": 50,
     "metadata": {},
     "output_type": "execute_result"
    }
   ],
   "source": [
    "dataset.dtypes"
   ]
  },
  {
   "cell_type": "code",
   "execution_count": 51,
   "id": "08ab9d18",
   "metadata": {},
   "outputs": [
    {
     "data": {
      "text/plain": [
       "Id               0\n",
       "MSSubClass       0\n",
       "MSZoning         0\n",
       "LotFrontage      0\n",
       "LotArea          0\n",
       "                ..\n",
       "MoSold           0\n",
       "YrSold           0\n",
       "SaleType         0\n",
       "SaleCondition    0\n",
       "SalePrice        0\n",
       "Length: 81, dtype: int64"
      ]
     },
     "execution_count": 51,
     "metadata": {},
     "output_type": "execute_result"
    }
   ],
   "source": [
    "dataset.isnull().sum()"
   ]
  },
  {
   "cell_type": "markdown",
   "id": "3ed696d9",
   "metadata": {},
   "source": [
    "Scaling Dataset"
   ]
  },
  {
   "cell_type": "code",
   "execution_count": 52,
   "id": "6e069e42",
   "metadata": {},
   "outputs": [
    {
     "name": "stdout",
     "output_type": "stream",
     "text": [
      "[7.30500000e+02 5.68972603e+01 3.02876712e+00 5.29513699e+01\n",
      " 1.05168281e+04 9.95890411e-01 1.90342466e+00 1.94246575e+00\n",
      " 2.77739726e+00 6.84931507e-04 3.01917808e+00 6.23287671e-02\n",
      " 1.22513699e+01 2.03150685e+00 2.00821918e+00 4.93150685e-01\n",
      " 3.03835616e+00 6.09931507e+00 5.57534247e+00 1.97126781e+03\n",
      " 1.98486575e+03 1.41027397e+00 1.07534247e+00 9.62465753e+00\n",
      " 1.03397260e+01 1.77328767e+00 1.03685262e+02 2.53972603e+00\n",
      " 3.73356164e+00 1.39657534e+00 2.30547945e+00 2.84246575e+00\n",
      " 2.31027397e+00 2.81506849e+00 4.43639726e+02 4.74178082e+00\n",
      " 4.65493151e+01 5.67240411e+02 1.05742945e+03 1.03630137e+00\n",
      " 1.53835616e+00 9.34931507e-01 3.68287671e+00 1.16262671e+03\n",
      " 3.46992466e+02 5.84452055e+00 1.51546370e+03 4.25342466e-01\n",
      " 5.75342466e-02 1.56506849e+00 3.82876712e-01 2.86643836e+00\n",
      " 1.04657534e+00 2.33972603e+00 6.51780822e+00 5.74931507e+00\n",
      " 6.13013699e-01 3.80479452e+00 2.48561644e+00 1.97850616e+03\n",
      " 1.28424658e+00 1.76712329e+00 4.72980137e+02 3.92739726e+00\n",
      " 3.96095890e+00 1.85616438e+00 9.42445205e+01 4.66602740e+01\n",
      " 2.19541096e+01 3.40958904e+00 1.50609589e+01 2.75890411e+00\n",
      " 2.99109589e+00 3.50479452e+00 3.92260274e+00 4.34890411e+01\n",
      " 6.32191781e+00 2.00781575e+03 7.51301370e+00 3.77054795e+00\n",
      " 1.80921196e+05]\n",
      "[[-1.73086488  0.07337496 -0.04553194 ...  0.31386709  0.2085023\n",
      "   0.34727322]\n",
      " [-1.7284922  -0.87256276 -0.04553194 ...  0.31386709  0.2085023\n",
      "   0.00728832]\n",
      " [-1.72611953  0.07337496 -0.04553194 ...  0.31386709  0.2085023\n",
      "   0.53615372]\n",
      " ...\n",
      " [ 1.72611953  0.30985939 -0.04553194 ...  0.31386709  0.2085023\n",
      "   1.07761115]\n",
      " [ 1.7284922  -0.87256276 -0.04553194 ...  0.31386709  0.2085023\n",
      "  -0.48852299]\n",
      " [ 1.73086488 -0.87256276 -0.04553194 ...  0.31386709  0.2085023\n",
      "  -0.42084081]]\n"
     ]
    }
   ],
   "source": [
    "from sklearn.preprocessing import StandardScaler\n",
    "scaler = StandardScaler()\n",
    "scaler.fit(dataset)\n",
    "print(scaler.mean_)\n",
    "dataset = scaler.transform(dataset)\n",
    "print(dataset)"
   ]
  },
  {
   "cell_type": "code",
   "execution_count": 53,
   "id": "10cc69ec",
   "metadata": {},
   "outputs": [
    {
     "name": "stdout",
     "output_type": "stream",
     "text": [
      "[[-1.73086488  0.07337496 -0.04553194 ...  0.31386709  0.2085023\n",
      "   0.34727322]\n",
      " [-1.7284922  -0.87256276 -0.04553194 ...  0.31386709  0.2085023\n",
      "   0.00728832]\n",
      " [-1.72611953  0.07337496 -0.04553194 ...  0.31386709  0.2085023\n",
      "   0.53615372]\n",
      " ...\n",
      " [ 1.72611953  0.30985939 -0.04553194 ...  0.31386709  0.2085023\n",
      "   1.07761115]\n",
      " [ 1.7284922  -0.87256276 -0.04553194 ...  0.31386709  0.2085023\n",
      "  -0.48852299]\n",
      " [ 1.73086488 -0.87256276 -0.04553194 ...  0.31386709  0.2085023\n",
      "  -0.42084081]]\n"
     ]
    }
   ],
   "source": [
    "imp = SimpleImputer(missing_values=np.nan, strategy='mean')\n",
    "imp = imp.fit(dataset)\n",
    "\n",
    "dataset = imp.transform(dataset)\n",
    "print(dataset)"
   ]
  },
  {
   "cell_type": "markdown",
   "id": "c6874abb",
   "metadata": {},
   "source": [
    "Splitting Dataset"
   ]
  },
  {
   "cell_type": "code",
   "execution_count": 54,
   "id": "5c82081d",
   "metadata": {},
   "outputs": [],
   "source": [
    "from sklearn.model_selection import train_test_split\n",
    "train, test = train_test_split(dataset, test_size=0.2, random_state=44, shuffle=True)"
   ]
  },
  {
   "cell_type": "code",
   "execution_count": 55,
   "id": "aa0fb917",
   "metadata": {},
   "outputs": [],
   "source": [
    "# the train and test file\n",
    "import pandas as pd\n",
    "train_df = pd.DataFrame(train)\n",
    "test_df = pd.DataFrame(test)\n",
    "\n",
    "train_path = ('train.csv')\n",
    "test_path = ('test.csv')\n",
    "\n",
    "train_df.to_csv(train_path)\n",
    "test_df.to_csv(test_path)"
   ]
  },
  {
   "cell_type": "code",
   "execution_count": 56,
   "id": "d821c762",
   "metadata": {},
   "outputs": [],
   "source": [
    "# Loading Training & Testing Datasets\n",
    "train_set = pd.read_csv('train.csv')\n",
    "test_set = pd.read_csv('test.csv')"
   ]
  },
  {
   "cell_type": "code",
   "execution_count": 57,
   "id": "bacd12db",
   "metadata": {},
   "outputs": [
    {
     "data": {
      "text/plain": [
       "((1168, 81), (1168,))"
      ]
     },
     "execution_count": 57,
     "metadata": {},
     "output_type": "execute_result"
    }
   ],
   "source": [
    "# Splitting Training Dataset\n",
    "X_train = train_set.drop(columns =['80'], axis = 1)\n",
    "y_train = train_set['80']\n",
    "X_train.shape, y_train.shape"
   ]
  },
  {
   "cell_type": "code",
   "execution_count": 58,
   "id": "ba74fc92",
   "metadata": {},
   "outputs": [
    {
     "data": {
      "text/plain": [
       "((292, 81), (292,))"
      ]
     },
     "execution_count": 58,
     "metadata": {},
     "output_type": "execute_result"
    }
   ],
   "source": [
    "# Splitting Testing Dataset\n",
    "X_test = test_set.drop(columns =['80'], axis = 1)\n",
    "y_test = test_set['80']\n",
    "X_test.shape, y_test.shape"
   ]
  },
  {
   "cell_type": "code",
   "execution_count": 59,
   "id": "025c8dc2",
   "metadata": {},
   "outputs": [],
   "source": [
    "# dataset = dataset.drop(columns=['Id', 'BsmtFinType1', 'MSZoning', 'LotFrontage',\n",
    "#                               'Street', 'Alley', 'LotShape', 'LandContour', \n",
    "#                               'Utilities', 'LotConfig', 'LandSlope', 'Neighborhood',\n",
    "#                               'Condition1', 'Condition2', 'BldgType', 'HouseStyle',\n",
    "#                               'RoofStyle', 'RoofMatl', 'Exterior1st', 'Exterior2nd',\n",
    "#                               'MasVnrType', 'ExterQual', 'ExterCond', 'Foundation',\n",
    "#                               'BsmtQual', 'BsmtCond', 'BsmtExposure', 'BsmtFinType2',\n",
    "#                               'Heating', 'HeatingQC', 'CentralAir', 'Electrical',\n",
    "#                               'KitchenQual', 'Functional', 'FireplaceQu', 'GarageType',\n",
    "#                               'GarageCond', 'GarageFinish', 'GarageQual', 'PavedDrive',\n",
    "#                               'PoolQC', 'Fence', 'MiscFeature', 'SaleType', 'SaleCondition'])"
   ]
  },
  {
   "cell_type": "code",
   "execution_count": 60,
   "id": "b2756d8b",
   "metadata": {},
   "outputs": [],
   "source": [
    "LRmodel = LinearRegression().fit(X_train, y_train)"
   ]
  },
  {
   "cell_type": "code",
   "execution_count": 61,
   "id": "84d5223d",
   "metadata": {},
   "outputs": [
    {
     "name": "stdout",
     "output_type": "stream",
     "text": [
      "Linear Regression Train Score is:  0.8489667458503911\n",
      "Linear Regression Test Score is:  0.8554993330976588\n",
      "Linear Regression Coef is:  [ 5.79037756e-06  3.18735213e-03 -5.37160005e-02 -1.72319506e-02\n",
      "  4.69789243e-03  2.34257194e-02  7.24183686e-03  2.25224373e-02\n",
      " -1.88247129e-02  4.03699424e-02 -2.00240463e-02  4.00426467e-03\n",
      "  2.32143101e-02  3.32338056e-02 -1.49799005e-02 -4.09816653e-02\n",
      " -3.68722758e-02 -4.28843451e-02  1.96670688e-01  8.53396025e-02\n",
      "  7.33456166e-02 -5.75772648e-03  1.49543526e-02  4.68625240e-02\n",
      " -3.21201200e-02  1.47828647e-02  4.77552046e-02  1.02584511e-01\n",
      " -6.89898392e-02  1.09289899e-02  7.70138343e-04 -1.12999055e-01\n",
      "  2.03387783e-02 -5.65583141e-02 -1.86411672e-02  1.14878493e+08\n",
      "  1.26411358e-02  4.06318626e+07  1.11294064e+08 -1.10497736e+08\n",
      " -9.68093838e-03 -2.30025858e-02 -1.14160719e-02 -7.62507105e-03\n",
      " -1.72751770e+08 -1.95068422e+08 -2.17278578e+07  2.34817760e+08\n",
      "  4.41644081e-02 -1.84841336e-03  2.07548400e-02  2.30814560e-03\n",
      " -3.73652671e-02 -3.75504770e-02 -9.35142031e-02  7.77437004e-02\n",
      "  4.07098626e-02  4.07500298e-02 -1.24782342e-02  1.83370014e-02\n",
      " -6.31520732e-04  6.80237370e-03  1.54946565e-01 -4.66340270e-02\n",
      "  4.67989028e-03  2.05717090e-02  8.23351485e-05  2.95608722e-02\n",
      " -6.10887872e-03 -1.02279264e-02  1.63086270e-02  2.59350855e-02\n",
      " -1.32010253e-01 -1.47654036e-01  2.32158078e-03  5.73613982e-03\n",
      "  3.35546119e-03 -1.20686113e-02 -1.74087697e-02 -1.48622279e-02\n",
      "  3.37469296e-02]\n",
      "Linear Regression intercept is:  -0.008203738254065666\n",
      "------------------------------------------------------------\n"
     ]
    }
   ],
   "source": [
    "# Calculating Details\n",
    "print('Linear Regression Train Score is: '  , LRmodel.score(X_train, y_train))\n",
    "print('Linear Regression Test Score is: '   , LRmodel.score(X_test, y_test))\n",
    "print('Linear Regression Coef is: '         , LRmodel.coef_)\n",
    "print('Linear Regression intercept is: '    , LRmodel.intercept_)\n",
    "print('------------------------------------------------------------')"
   ]
  },
  {
   "cell_type": "code",
   "execution_count": null,
   "id": "664e000c",
   "metadata": {},
   "outputs": [],
   "source": []
  },
  {
   "cell_type": "code",
   "execution_count": null,
   "id": "8829a041",
   "metadata": {},
   "outputs": [],
   "source": []
  }
 ],
 "metadata": {
  "kernelspec": {
   "display_name": "Python 3 (ipykernel)",
   "language": "python",
   "name": "python3"
  },
  "language_info": {
   "codemirror_mode": {
    "name": "ipython",
    "version": 3
   },
   "file_extension": ".py",
   "mimetype": "text/x-python",
   "name": "python",
   "nbconvert_exporter": "python",
   "pygments_lexer": "ipython3",
   "version": "3.9.12"
  }
 },
 "nbformat": 4,
 "nbformat_minor": 5
}
